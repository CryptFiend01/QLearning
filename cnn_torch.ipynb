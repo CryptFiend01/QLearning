{
 "cells": [
  {
   "cell_type": "code",
   "execution_count": 8,
   "metadata": {},
   "outputs": [],
   "source": [
    "import torch\n",
    "from torch import nn\n",
    "from torch.nn import functional as F\n",
    "from torchvision import transforms\n",
    "from torchvision import datasets\n",
    "from torch.utils.data import DataLoader"
   ]
  },
  {
   "cell_type": "code",
   "execution_count": 15,
   "metadata": {},
   "outputs": [],
   "source": [
    "class LeNet5(nn.Module):\n",
    "    def __init__(self) -> None:\n",
    "        super().__init__()\n",
    "\n",
    "        self.model = nn.Sequential(\n",
    "            nn.Conv2d(3, 6, kernel_size=5, stride=1, padding=0),\n",
    "            nn.AvgPool2d(kernel_size=2, stride=2, padding=0),\n",
    "            nn.Conv2d(6, 16, kernel_size=5, stride=1, padding=0),\n",
    "            nn.AvgPool2d(kernel_size=2, stride=2, padding=0),\n",
    "            nn.Flatten(),\n",
    "            nn.Linear(16*5*5, 120),\n",
    "            nn.ReLU(),\n",
    "            nn.Linear(120, 84),\n",
    "            nn.ReLU(),\n",
    "            nn.Linear(84, 10)\n",
    "        )\n",
    "\n",
    "        # t = torch.rand(2, 3, 32, 32)\n",
    "        # out = self.model(t)\n",
    "        # print(out.shape)  # torch.Size([2, 16, 5, 5])\n",
    "\n",
    "    def forward(self, x):\n",
    "        return self.model(x)\n"
   ]
  },
  {
   "cell_type": "code",
   "execution_count": 9,
   "metadata": {},
   "outputs": [
    {
     "name": "stdout",
     "output_type": "stream",
     "text": [
      "Files already downloaded and verified\n",
      "Files already downloaded and verified\n"
     ]
    }
   ],
   "source": [
    "tf_train = transforms.Compose([\n",
    "    transforms.Resize((32, 32)),\n",
    "    transforms.ToTensor()\n",
    "])\n",
    "cifar_train = datasets.CIFAR10('cifar', True, transform=tf_train, download=True)\n",
    "cifar_train = DataLoader(cifar_train, batch_size=32, shuffle=True)\n",
    "\n",
    "tf_test = transforms.Compose([\n",
    "    transforms.Resize((32, 32)),\n",
    "    transforms.ToTensor()\n",
    "])\n",
    "cifar_test = datasets.CIFAR10('cifar', False, transform=tf_test, download=True)\n",
    "cifar_test = DataLoader(cifar_test, batch_size=32, shuffle=True)"
   ]
  },
  {
   "cell_type": "code",
   "execution_count": 21,
   "metadata": {},
   "outputs": [],
   "source": [
    "def train_cifar(net: LeNet5, data: DataLoader):\n",
    "    net.train()\n",
    "    lossfn = nn.CrossEntropyLoss() # 该方法包含softmax\n",
    "    adam = torch.optim.Adam(net.parameters(), lr=0.001)\n",
    "    for epoch in range(10):\n",
    "        for batch, (x, y) in enumerate(data):\n",
    "            out = net(x)\n",
    "            # print(out.shape)\n",
    "            # print(y.shape)\n",
    "            loss = lossfn(out, y)\n",
    "\n",
    "            adam.zero_grad()\n",
    "            loss.backward()\n",
    "            adam.step()\n",
    "            if batch % 10 == 0:\n",
    "                print(f\"\\repoch {epoch} ===========> batch {batch} loss {loss.item()}\", end='\\r')\n"
   ]
  },
  {
   "cell_type": "code",
   "execution_count": 16,
   "metadata": {},
   "outputs": [],
   "source": [
    "net = LeNet5()"
   ]
  },
  {
   "cell_type": "code",
   "execution_count": 23,
   "metadata": {},
   "outputs": [
    {
     "name": "stdout",
     "output_type": "stream",
     "text": [
      "epoch 9 ===========> batch 1560 loss 0.7421071529388428\r"
     ]
    }
   ],
   "source": [
    "train_cifar(net, cifar_train)"
   ]
  }
 ],
 "metadata": {
  "kernelspec": {
   "display_name": "Python 3",
   "language": "python",
   "name": "python3"
  },
  "language_info": {
   "codemirror_mode": {
    "name": "ipython",
    "version": 3
   },
   "file_extension": ".py",
   "mimetype": "text/x-python",
   "name": "python",
   "nbconvert_exporter": "python",
   "pygments_lexer": "ipython3",
   "version": "3.9.7"
  },
  "orig_nbformat": 4,
  "vscode": {
   "interpreter": {
    "hash": "d33df38dbe8955aef30b1eb444d3d3968a89b555374e01995e2b4794739c3e48"
   }
  }
 },
 "nbformat": 4,
 "nbformat_minor": 2
}

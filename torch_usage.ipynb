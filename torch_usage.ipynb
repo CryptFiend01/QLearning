{
 "cells": [
  {
   "cell_type": "code",
   "execution_count": 1,
   "metadata": {},
   "outputs": [],
   "source": [
    "import torch\n",
    "from torch import nn\n",
    "from torch.nn import functional as F"
   ]
  },
  {
   "cell_type": "code",
   "execution_count": null,
   "metadata": {},
   "outputs": [],
   "source": [
    "x = torch.ones(1)\n",
    "w = torch.full([1], 2.)\n",
    "w.requires_grad_()\n",
    "print(x)\n",
    "print(w)\n",
    "print(w.grad)"
   ]
  },
  {
   "cell_type": "code",
   "execution_count": null,
   "metadata": {},
   "outputs": [],
   "source": [
    "pred = torch.ones(1)\n",
    "mse = F.mse_loss(pred, x*w)\n",
    "print(mse)\n",
    "torch.autograd.grad(mse, [w])"
   ]
  },
  {
   "cell_type": "code",
   "execution_count": null,
   "metadata": {},
   "outputs": [],
   "source": [
    "mse = F.mse_loss(pred, x*w)\n",
    "mse.backward()\n",
    "print(w.grad)\n",
    "print(w)"
   ]
  },
  {
   "cell_type": "code",
   "execution_count": null,
   "metadata": {},
   "outputs": [],
   "source": [
    "a = torch.tensor([1., 1., 1.])\n",
    "a.shape\n",
    "b = a.reshape((1, 3))\n",
    "b.shape"
   ]
  },
  {
   "cell_type": "code",
   "execution_count": null,
   "metadata": {},
   "outputs": [],
   "source": [
    "from torch.distributions import Categorical\n",
    "\n",
    "probs = torch.tensor([0.7, 0.12, 0.1, 0.08])\n",
    "m = Categorical(probs)\n",
    "counts = [0, 0, 0, 0]\n",
    "for i in range(100):\n",
    "    a = m.sample()\n",
    "    counts[a.item()] += 1\n",
    "\n",
    "print(counts)"
   ]
  },
  {
   "cell_type": "code",
   "execution_count": 5,
   "metadata": {},
   "outputs": [
    {
     "name": "stdout",
     "output_type": "stream",
     "text": [
      "torch.Size([1, 1, 28, 28])\n",
      "torch.Size([1, 3, 28, 28])\n"
     ]
    }
   ],
   "source": [
    "layer = nn.Conv2d(1, 3, 5, 1, 2)\n",
    "x = torch.rand(1, 1, 28, 28)\n",
    "print(x.shape)\n",
    "out = layer.forward(x)\n",
    "print(out.shape)\n"
   ]
  },
  {
   "cell_type": "code",
   "execution_count": null,
   "metadata": {},
   "outputs": [],
   "source": [
    "w = torch.rand(16, 3, 5, 5)\n",
    "print(w.shape)\n",
    "b = torch.rand(16)\n",
    "print(b.shape)\n",
    "\n",
    "x = torch.rand(1, 3, 28, 28)\n",
    "out = F.conv2d(x, w, b, stride=1, padding=1)\n",
    "print(out.shape)"
   ]
  },
  {
   "cell_type": "code",
   "execution_count": 2,
   "metadata": {},
   "outputs": [
    {
     "name": "stdout",
     "output_type": "stream",
     "text": [
      "tensor(3.3000)\n",
      "tensor(0.8250)\n"
     ]
    }
   ],
   "source": [
    "a = torch.tensor([0.7, 0.2, 0.8, 1.6])\n",
    "print(a.sum())\n",
    "print(a.mean())"
   ]
  },
  {
   "cell_type": "code",
   "execution_count": 2,
   "metadata": {},
   "outputs": [
    {
     "name": "stdout",
     "output_type": "stream",
     "text": [
      "tensor([1., 1., 3., 2., 3., 1.])\n"
     ]
    }
   ],
   "source": [
    "losses = []\n",
    "losses.append(torch.Tensor([1., 1., 3.]))\n",
    "losses.append(torch.Tensor([2., 3., 1.]))\n",
    "losses = torch.cat(losses)\n",
    "print(losses)"
   ]
  },
  {
   "cell_type": "code",
   "execution_count": 3,
   "metadata": {},
   "outputs": [
    {
     "name": "stdout",
     "output_type": "stream",
     "text": [
      "tensor(2.5556)\n"
     ]
    }
   ],
   "source": [
    "t = torch.Tensor([[1.,2.,3.],[4.,3.,2.],[3.,3.,2.]])\n",
    "print(t.mean())"
   ]
  },
  {
   "cell_type": "code",
   "execution_count": 3,
   "metadata": {},
   "outputs": [
    {
     "name": "stdout",
     "output_type": "stream",
     "text": [
      "tensor(1)\n"
     ]
    }
   ],
   "source": [
    "a = torch.tensor(1)\n",
    "print(a)"
   ]
  }
 ],
 "metadata": {
  "kernelspec": {
   "display_name": "Python 3",
   "language": "python",
   "name": "python3"
  },
  "language_info": {
   "codemirror_mode": {
    "name": "ipython",
    "version": 3
   },
   "file_extension": ".py",
   "mimetype": "text/x-python",
   "name": "python",
   "nbconvert_exporter": "python",
   "pygments_lexer": "ipython3",
   "version": "3.9.7"
  },
  "orig_nbformat": 4,
  "vscode": {
   "interpreter": {
    "hash": "d33df38dbe8955aef30b1eb444d3d3968a89b555374e01995e2b4794739c3e48"
   }
  }
 },
 "nbformat": 4,
 "nbformat_minor": 2
}
